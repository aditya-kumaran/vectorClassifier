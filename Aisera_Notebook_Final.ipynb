{
 "cells": [
  {
   "cell_type": "code",
   "execution_count": 72,
   "metadata": {},
   "outputs": [],
   "source": [
    "import gzip\n",
    "\n",
    "import pandas as pd\n",
    "import numpy as np\n",
    "\n",
    "from sklearn.model_selection import train_test_split\n",
    "from sklearn.metrics import accuracy_score\n",
    "from sklearn.feature_extraction.text import CountVectorizer\n",
    "from sklearn.svm import LinearSVC\n",
    "\n",
    "from sklearn.datasets import load_iris\n",
    "from sklearn.model_selection import cross_val_score"
   ]
  },
  {
   "cell_type": "code",
   "execution_count": 73,
   "metadata": {},
   "outputs": [],
   "source": [
    "train_data = gzip.open('training.data.gz', 'rt')\n",
    "view = train_data.read()\n",
    "#print(view)\n",
    "\n",
    "data = view.split(\"\\n\")\n",
    "questions = []\n",
    "classes = []\n",
    "\n",
    "for i in range(len(data) - 1):\n",
    "    separated = data[i].split(\" \", 1)\n",
    "    if (separated[1] in questions):\n",
    "        continue;\n",
    "    questions.append(separated[1])\n",
    "    classes.append(separated[0])\n",
    "    #print(questions[i], classes[i])"
   ]
  },
  {
   "cell_type": "code",
   "execution_count": 74,
   "metadata": {},
   "outputs": [],
   "source": [
    "X_train, X_test, y_train, y_test = train_test_split(questions, classes, test_size=0.30, random_state=18)\n",
    "\n",
    "vectorizer = CountVectorizer(analyzer = 'word')\n",
    "train_features = vectorizer.fit_transform(X_train)\n",
    "test_features = vectorizer.transform(X_test)"
   ]
  },
  {
   "cell_type": "code",
   "execution_count": 75,
   "metadata": {},
   "outputs": [],
   "source": [
    "model = LinearSVC()\n",
    "model.fit(train_features, y_train)\n",
    "predictions = model.predict(test_features)"
   ]
  },
  {
   "cell_type": "code",
   "execution_count": 76,
   "metadata": {},
   "outputs": [
    {
     "name": "stdout",
     "output_type": "stream",
     "text": [
      "accuracy =  0.7554179566563467\n"
     ]
    }
   ],
   "source": [
    "acc = accuracy_score(y_test, predictions)\n",
    "print(\"accuracy = \", acc)\n"
   ]
  },
  {
   "cell_type": "code",
   "execution_count": 77,
   "metadata": {},
   "outputs": [],
   "source": [
    "pred_df = pd.DataFrame({'Predictions': predictions, 'y_test': y_test})\n",
    "pred_df.to_csv('evaluation_results_new.csv', header=True, sep=',')"
   ]
  },
  {
   "cell_type": "code",
   "execution_count": null,
   "metadata": {},
   "outputs": [],
   "source": []
  }
 ],
 "metadata": {
  "kernelspec": {
   "display_name": "Python 3",
   "language": "python",
   "name": "python3"
  },
  "language_info": {
   "codemirror_mode": {
    "name": "ipython",
    "version": 3
   },
   "file_extension": ".py",
   "mimetype": "text/x-python",
   "name": "python",
   "nbconvert_exporter": "python",
   "pygments_lexer": "ipython3",
   "version": "3.8.8"
  }
 },
 "nbformat": 4,
 "nbformat_minor": 4
}
